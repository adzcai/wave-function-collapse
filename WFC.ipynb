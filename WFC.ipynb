{
 "cells": [
  {
   "cell_type": "code",
   "execution_count": 9,
   "metadata": {},
   "outputs": [],
   "source": [
    "import jax\n",
    "import jax.numpy as jnp\n",
    "from typing import NamedTuple"
   ]
  },
  {
   "cell_type": "code",
   "execution_count": 12,
   "metadata": {},
   "outputs": [],
   "source": [
    "class State(NamedTuple):\n",
    "    \"\"\"The state of the WFC algorithm.\"\"\"\n",
    "\n",
    "    wave: jnp.ndarray\n",
    "    \"\"\"Shape (H, W, C). wave[r, c, k] is True if pattern k is possible at\n",
    "    position (r, c), and False otherwise.\"\"\"\n",
    "\n",
    "    compatible: jnp.ndarray\n",
    "    \"\"\"Shape (H, W, C, C). At each position, compatible[i, j, k, l] is 1 if\n",
    "    pattern k is compatible with pattern l at position (i, j), and 0 otherwise.\"\"\"\n",
    "\n",
    "    weights: jnp.ndarray\n",
    "    \"\"\"The unnormalized positive probability assigned to each pattern.\"\"\"\n",
    "\n",
    "    entropies: jnp.ndarray\n",
    "    \"\"\"Shape (H, W). The entropy of each position. Used for picking the next state.\"\"\"\n"
   ]
  },
  {
   "cell_type": "code",
   "execution_count": null,
   "metadata": {},
   "outputs": [],
   "source": [
    "def init_state(self, nr: int, nc: int, weights: jnp.ndarray):\n",
    "    wave = jnp.zeros((nr, nc, self.nweights), dtype=jnp.bool_)\n",
    "    compatible = jnp.zeros((nr, nc))\n",
    "    entropies = jnp.full((nr, nc), init_entropy(weights))\n",
    "    return State(wave, compatible, weights, entropies)\n",
    "\n",
    "def init_entropy(weights):\n",
    "    s = jnp.sum(weights)\n",
    "    return jnp.log(s) - jnp.sum(weights * jnp.log(weights)) / s\n",
    "\n",
    "def run(key, max_steps=100):\n",
    "    for _ in range(max_steps):\n",
    "        key, subkey = jax.random.split(key)\n",
    "\n",
    "def eliminate(state: State, r: int, c: int, t: int):\n",
    "    wave = state.wave.at[r, c, t].set(False)\n",
    "    compatible = state.compatible.at[r, c].set(state.compatible[r, c] - 1)\n",
    "    return State(wave, compatible, state.weights, state.entropies)\n",
    "\n",
    "def next_node(key):\n",
    "    min, argmin = float('inf'), None\n",
    "\n",
    "    @property\n",
    "    def nweights(self):\n",
    "        return self.weights.shape[0]\n",
    "\n",
    "    @staticmethod\n",
    "    @abstractmethod\n",
    "    def weights(self):\n",
    "        ..."
   ]
  }
 ],
 "metadata": {
  "kernelspec": {
   "display_name": "base",
   "language": "python",
   "name": "python3"
  },
  "language_info": {
   "codemirror_mode": {
    "name": "ipython",
    "version": 3
   },
   "file_extension": ".py",
   "mimetype": "text/x-python",
   "name": "python",
   "nbconvert_exporter": "python",
   "pygments_lexer": "ipython3",
   "version": "3.9.12"
  },
  "orig_nbformat": 4
 },
 "nbformat": 4,
 "nbformat_minor": 2
}
