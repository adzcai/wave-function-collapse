{
 "cells": [
  {
   "cell_type": "code",
   "execution_count": null,
   "metadata": {},
   "outputs": [],
   "source": [
    "import jax\n",
    "import jax.numpy as jnp\n",
    "from typing import NamedTuple, Callable, Optional\n",
    "import pandas as pd\n",
    "import matplotlib.pyplot as plt\n",
    "import numpy as np\n",
    "from tqdm import tqdm\n",
    "from functools import cache"
   ]
  },
  {
   "cell_type": "code",
   "execution_count": null,
   "metadata": {},
   "outputs": [],
   "source": [
    "DIRECTIONS = jnp.array([(1, 0), (0, 1), (-1, 0), (0, -1)])\n",
    "ND = len(DIRECTIONS)\n",
    "RIGHT, UP, LEFT, DOWN = range(ND)  # in clockwise order\n",
    "\n",
    "Position = jnp.ndarray  # (x, y)\n",
    "TileType = int  # index into the tileset\n",
    "DirectionSet = jnp.ndarray"
   ]
  },
  {
   "cell_type": "markdown",
   "metadata": {},
   "source": [
    "# Constructing the Tileset"
   ]
  },
  {
   "cell_type": "code",
   "execution_count": null,
   "metadata": {},
   "outputs": [],
   "source": [
    "class Tileset(NamedTuple):\n",
    "    tiles: pd.DataFrame\n",
    "    neighbors: pd.DataFrame\n",
    "    subsets: pd.DataFrame\n",
    "\n",
    "def load_tileset(path: str) -> Tileset:\n",
    "    groups = ['tiles', 'neighbors', 'subsets']\n",
    "    tiles, neighbors, subsets = [pd.read_xml(path, xpath=f'./{group}/*') for group in groups]\n",
    "    subsets = {name: pd.read_xml(path, xpath=f'./subsets/subset[@name=\"{name}\"]/*') for name in subsets['name']}\n",
    "    return Tileset(tiles, neighbors, subsets)"
   ]
  },
  {
   "cell_type": "code",
   "execution_count": null,
   "metadata": {},
   "outputs": [],
   "source": [
    "circuit_tiles = load_tileset('./tilesets/Circuit.xml')\n",
    "circuit_tiles.tiles"
   ]
  },
  {
   "attachments": {},
   "cell_type": "markdown",
   "metadata": {},
   "source": [
    "## Tile rotations\n",
    "\n",
    "I'll use \"tile\" to refer to the original, unrotated tiles, and \"TILE\" to refer to an element of the massive set of rotated tiles we obtain afterwards.\n",
    "\n",
    "$C$ denotes the number of TILEs."
   ]
  },
  {
   "cell_type": "code",
   "execution_count": null,
   "metadata": {},
   "outputs": [],
   "source": [
    "class Symmetry(NamedTuple):\n",
    "    card: int\n",
    "    \"\"\"The number of elements in the symmetry group.\"\"\"\n",
    "\n",
    "    rotate: Callable[[int], int]\n",
    "    \"\"\"A function that rotates an element of the symmetry group.\"\"\"\n",
    "\n",
    "    flip: Callable[[int], int]\n",
    "    \"\"\"A function that flips an element of the symmetry group.\"\"\"\n",
    "\n",
    "id = lambda i: i\n",
    "rotate = lambda i: (i + 1) % 4                     # rotates clockwise                         (1, 2, 3, 0)\n",
    "flipa = lambda i: i ^ 1                            # flips across the diagonal y=x             (2, 3, 0, 1)\n",
    "flipb = lambda i: jnp.where(i % 2 == 0, i, 4 - i)  # flips across the x-axis                   (3, 0, 1, 2)\n",
    "flipc = lambda i: 1 - i                            # same as flipa but using negative indices  (1, 0, -1, -2)\n",
    "\n",
    "SYMMETRIES = {\n",
    "    'X': Symmetry(1, id, id),\n",
    "    'L': Symmetry(4, rotate, flipa),\n",
    "    'T': Symmetry(4, rotate, flipb),\n",
    "    'I': Symmetry(2, flipc, id),\n",
    "    '\\\\': Symmetry(2, flipc, flipc),\n",
    "    'F': Symmetry(8, lambda i: jnp.where(i < 4, rotate(i), 4 + rotate(i)), lambda i: i ^ 4),\n",
    "}\n",
    "\n",
    "def _get_symmetry(sym: Symmetry, t=0):\n",
    "    s = []\n",
    "    for _ in range(4):\n",
    "        s.append((t, sym.flip(t)))\n",
    "        t = sym.rotate(t)\n",
    "    return jnp.array(s)\n",
    "\n",
    "@cache\n",
    "def get_symmetries(symmetry: str) -> list[Symmetry]:\n",
    "    s = SYMMETRIES[symmetry]\n",
    "    return jax.vmap(_get_symmetry, in_axes=(None, 0))(s, jnp.arange(s.card))"
   ]
  },
  {
   "cell_type": "code",
   "execution_count": null,
   "metadata": {},
   "outputs": [],
   "source": [
    "def show_symmetries(tile: str, symmetry: str):\n",
    "    fig, axs = plt.subplots(2, 5, figsize=(10, 4))\n",
    "    img = plt.imread(f'./tilesets/Circuit/{tile}.png')\n",
    "    axs[0, 0].imshow(img)\n",
    "    axs[0, 0].axis('off')\n",
    "    axs[0, 0].set_title(f\"{tile} ({symmetry})\")\n",
    "\n",
    "    axs[1, 0].axis('off')\n",
    "\n",
    "    for j, k in enumerate(_get_symmetry(SYMMETRIES[symmetry])):\n",
    "        i = j + 1\n",
    "        k0, k1 = k[0].item(), k[1].item()\n",
    "        axs[0, i].imshow(jnp.rot90(img, k0))\n",
    "        axs[1, i].imshow(jnp.rot90(img, k1))\n",
    "        axs[0, i].axis('off')\n",
    "        axs[1, i].axis('off')\n",
    "        axs[0, i].set_title(k0)\n",
    "        axs[1, i].set_title(k1)\n",
    "    plt.show()"
   ]
  },
  {
   "cell_type": "code",
   "execution_count": null,
   "metadata": {},
   "outputs": [],
   "source": [
    "show_symmetries('substrate', 'X')"
   ]
  },
  {
   "cell_type": "code",
   "execution_count": null,
   "metadata": {},
   "outputs": [],
   "source": [
    "show_symmetries('skew', 'L')"
   ]
  },
  {
   "cell_type": "code",
   "execution_count": null,
   "metadata": {},
   "outputs": [],
   "source": [
    "show_symmetries('bridge', 'I')"
   ]
  },
  {
   "cell_type": "code",
   "execution_count": null,
   "metadata": {},
   "outputs": [],
   "source": [
    "show_symmetries('connection', 'T')"
   ]
  },
  {
   "cell_type": "code",
   "execution_count": null,
   "metadata": {},
   "outputs": [],
   "source": [
    "show_symmetries('dskew', '\\\\')"
   ]
  },
  {
   "cell_type": "code",
   "execution_count": null,
   "metadata": {},
   "outputs": [],
   "source": [
    "def load_patterns(tiles: Tileset):\n",
    "    \"\"\"\n",
    "    Turns the set of tiles into the set of TILEs.\n",
    "    \"\"\"\n",
    "    names = []\n",
    "    spins = []\n",
    "    stepsto = []\n",
    "    weights = []\n",
    "\n",
    "    for name, symmetry, weight in tiles.tiles.itertuples(index=False):\n",
    "        s = get_symmetries(symmetry)  # Shape (sym.card, 4, 2)\n",
    "        card = s.shape[0]\n",
    "        names.extend([name] * card)\n",
    "        spins.extend(range(card))\n",
    "        stepsto.extend(s + len(stepsto))\n",
    "        weights.extend([weight] * card)\n",
    "\n",
    "    index = pd.MultiIndex.from_arrays([names, spins], names=['name', 'spin'])\n",
    "    return pd.DataFrame({\n",
    "        'stepsto': stepsto,\n",
    "        'weight': weights,\n",
    "    }, index=index)"
   ]
  },
  {
   "cell_type": "code",
   "execution_count": null,
   "metadata": {},
   "outputs": [],
   "source": [
    "patterns = load_patterns(circuit_tiles)\n",
    "patterns"
   ]
  },
  {
   "attachments": {},
   "cell_type": "markdown",
   "metadata": {},
   "source": [
    "# Propagation\n",
    "\n",
    "Great! Now that we have the set of rotations set up,\n",
    "we need to be able to tell which tile types are allowed to be\n",
    "next to each other. We'll do this with a `propagator` matrix defined below."
   ]
  },
  {
   "cell_type": "code",
   "execution_count": null,
   "metadata": {},
   "outputs": [],
   "source": [
    "def _preprocess(left, right):\n",
    "    \"\"\"Turn a name in the 'neighbors' table into a (name, spin) pair for indexing into the df.\"\"\"\n",
    "    left, right = left.split(' '), right.split(' ')\n",
    "    if len(left) == 1:\n",
    "        left += ['0']\n",
    "    if len(right) == 1:\n",
    "        right += ['0']\n",
    "    return (left[0], int(left[1])), (right[0], int(right[1]))\n",
    "\n",
    "def create_propagator(tileset: Tileset, stepsto: pd.DataFrame) -> jnp.ndarray:\n",
    "    \"\"\"Shape (D, C, C). propagator[dir, from, to] is True if\n",
    "    the tile `from` is compatible with tile `to` in direction `dir`.\n",
    "    For example, propagator[RIGHT, L, R] means that the tile pattern L -> R is allowed.\"\"\"\n",
    "\n",
    "    # use regular numpy temporarily since it's more convenient\n",
    "    propagator = np.empty((ND, len(stepsto), len(stepsto)), dtype=np.bool_)\n",
    "\n",
    "    for pair in tqdm(tileset.neighbors.itertuples(index=False), total=len(tileset.neighbors)):\n",
    "        l, r = _preprocess(*pair)\n",
    "        lstep, rstep = stepsto.loc[[l, r], 'stepsto']\n",
    "        dstep = stepsto.iloc[lstep[1, 0].item()]['stepsto']\n",
    "        ustep = stepsto.iloc[rstep[1, 0].item()]['stepsto']\n",
    "\n",
    "        propagator[LEFT, rstep[0, 0], lstep[0, 0]] = True\n",
    "        propagator[LEFT, lstep[0, 1], rstep[0, 1]] = True\n",
    "        propagator[LEFT, lstep[2, 0], rstep[2, 0]] = True\n",
    "        propagator[LEFT, rstep[2, 1], lstep[2, 1]] = True\n",
    "\n",
    "        propagator[UP, ustep[0, 0], dstep[0, 0]] = True\n",
    "        propagator[UP, dstep[0, 1], ustep[0, 1]] = True\n",
    "        propagator[UP, ustep[2, 1], dstep[2, 1]] = True\n",
    "        propagator[UP, dstep[2, 0], ustep[2, 0]] = True\n",
    "    \n",
    "    propagator[RIGHT] = propagator[LEFT].T\n",
    "    propagator[DOWN] = propagator[UP].T\n",
    "\n",
    "    return jnp.array(propagator)"
   ]
  },
  {
   "cell_type": "code",
   "execution_count": null,
   "metadata": {},
   "outputs": [],
   "source": [
    "propagator = create_propagator(circuit_tiles, patterns)\n",
    "propagator.shape"
   ]
  },
  {
   "attachments": {},
   "cell_type": "markdown",
   "metadata": {},
   "source": [
    "# State\n",
    "\n",
    "Now let's build the actual algorithm for \"collapsing the wave function\"!\n",
    "The \"wave function\" itself is a boolean array. For each (node, tile type) pair,\n",
    "it tracks whether or not this pair is still valid."
   ]
  },
  {
   "cell_type": "code",
   "execution_count": null,
   "metadata": {},
   "outputs": [],
   "source": [
    "class State(NamedTuple):\n",
    "    \"\"\"The state of the WFC algorithm.\"\"\"\n",
    "\n",
    "    wave: jnp.ndarray\n",
    "    \"\"\"Shape (W, H, C). wave[x, y, k] is True if pattern k is possible at\n",
    "    position (x, y), and False otherwise.\"\"\"\n",
    "\n",
    "    compatible: jnp.ndarray\n",
    "    \"\"\"Shape (W, H, D, C). compatible[x, y, d, k] counts how many ways there are to get\n",
    "    type k at position (x, y) _from_ direction d.\"\"\"\n",
    "\n",
    "    entropies: jnp.ndarray\n",
    "    \"\"\"Shape (W, H). The entropy of each position. Used for picking the next state.\"\"\"\n",
    "\n",
    "    def ntypes(self):\n",
    "        return self.wave.shape[-1]\n",
    "    \n",
    "    def shape(self):\n",
    "        return self.wave.shape[:2]\n",
    "    \n",
    "    def positions(self):\n",
    "        w, h = self.shape()\n",
    "        return jnp.mgrid[:w, :h].reshape(2, -1).T\n",
    "    \n",
    "    def counts(self):\n",
    "        return self.wave.sum(axis=-1)\n",
    "    \n",
    "    def is_collapsed(self):\n",
    "        \"\"\"Shape (W, H). True if the wave is collapsed at the given position.\"\"\"\n",
    "        return self.counts() == 1\n",
    "    \n",
    "class Problem(NamedTuple):\n",
    "    \"\"\"The problem to be solved by the WFC algorithm.\"\"\"\n",
    "\n",
    "    weights: jnp.ndarray\n",
    "    \"\"\"The marginal unnormalized positive probability assigned to each pattern.\"\"\"\n",
    "\n",
    "    propagator: jnp.ndarray\n",
    "    \"\"\"Shape (D, C, C). propagator[dir, from, to] is True if the tile `from` is\n",
    "    compatible with tile `to` in direction `dir`.\"\"\"\n",
    "\n",
    "class Ban(NamedTuple):\n",
    "    \"\"\"A ban on a particular pattern at a particular position.\"\"\"\n",
    "\n",
    "    node: Position\n",
    "    banned: jnp.ndarray\n",
    "    dirs: Optional[DirectionSet] = ..."
   ]
  },
  {
   "cell_type": "code",
   "execution_count": null,
   "metadata": {},
   "outputs": [],
   "source": [
    "def init_state(problem: Problem, W: int, H: int) -> State:\n",
    "    \"\"\"Initializes the state of the WFC algorithm.\"\"\"\n",
    "    C = problem.weights.shape[0]\n",
    "    wave = jnp.ones((W, H, C), dtype=jnp.bool_)\n",
    "    entropies = jnp.full((W, H), entropy(problem.weights))\n",
    "    # TODO make sure to generalize this for arbitrary directions\n",
    "    counts = problem.propagator.sum(axis=-1)  # (D, C) how many tiles does each tile connect to (in that direction)?\n",
    "    compatible = jnp.broadcast_to(counts[jnp.arange(ND) ^ 2], (W, H, ND, C))\n",
    "    return State(wave, compatible, entropies)\n",
    "\n",
    "@jax.jit\n",
    "def entropy(weights: jnp.ndarray):\n",
    "    \"\"\"Weights should be the unnormalized positive probability of each tile type.\n",
    "    Not to be confused with logits = log(weights).\"\"\"\n",
    "    s = jnp.sum(weights, axis=-1)\n",
    "    w = jnp.where(weights > 0, weights * jnp.log(weights), 0)  # avoid log zero errors\n",
    "    return jnp.log(s) - jnp.sum(w, axis=-1) / s"
   ]
  },
  {
   "cell_type": "code",
   "execution_count": null,
   "metadata": {},
   "outputs": [],
   "source": [
    "problem = Problem(patterns['weight'].values, propagator)\n",
    "state = init_state(problem, 24, 24)"
   ]
  },
  {
   "cell_type": "code",
   "execution_count": null,
   "metadata": {},
   "outputs": [],
   "source": [
    "def run(key, state: State, problem: Problem, max_steps=10_000):\n",
    "    \"\"\"Run Wave Function Collapse for a maximum of `max_steps` steps.\"\"\"\n",
    "    for _ in tqdm(range(max_steps)):\n",
    "        key, subkey = jax.random.split(key)\n",
    "        node = next_node(subkey, state)\n",
    "\n",
    "        key, subkey = jax.random.split(key)\n",
    "        state, banned = collapse(subkey, state, problem.weights, node)\n",
    "        state, ok = propagate(state, problem, Ban(node, banned))\n",
    "        if not ok:\n",
    "            return state, False\n",
    "        \n",
    "        if state.is_collapsed().all():\n",
    "            return state, True\n",
    "\n",
    "    return state, True\n",
    "\n",
    "@jax.jit\n",
    "def next_node(key, state: State, std=1e-4) -> Optional[Position]:\n",
    "    \"\"\"\n",
    "    Get a minimum-entropy state that has not yet been fully observed.\n",
    "    If all states are fully observed, return None.\n",
    "    Assumes that the wave is not fully collapsed.\n",
    "    \"\"\"\n",
    "    ka, kb = jax.random.split(key)\n",
    "    entropies = jnp.where(state.is_collapsed(), jnp.inf, state.entropies)  # don't pick collapsed positions\n",
    "    noise = jax.random.normal(ka, entropies.shape) * std\n",
    "    p = jnp.isclose(entropies + noise, entropies.min())  # a mask (W, H) of positions with minimum entropy\n",
    "    p = jnp.where(p, 1, 0).reshape(-1) / p.sum()  # choose uniformly from those positions\n",
    "    return jax.random.choice(kb, state.positions(), p=p)\n",
    "\n",
    "@jax.jit\n",
    "def collapse(key, state: State, weights: jnp.array, node: Position) -> tuple[State, jnp.ndarray]:\n",
    "    \"\"\"'Collapse' the wave at the given node by sampling a given pattern\n",
    "    according to the weights. Eliminate all other patterns at that node.\"\"\"\n",
    "    x, y = node\n",
    "    p = jnp.where(state.wave[x, y, :], weights, 0)\n",
    "    ary = jnp.arange(state.ntypes())\n",
    "    pattern = jax.random.choice(key, ary, p=p / p.sum())\n",
    "    banned = (ary != pattern) & state.wave[x, y, :]  # the types that have been eliminated\n",
    "    state = eliminate(state, weights, Ban(node, banned))\n",
    "    return state, banned\n",
    "\n",
    "@jax.jit\n",
    "def eliminate(state: State, weights: jnp.ndarray, ban: Ban) -> State:\n",
    "    \"\"\"Eliminate the given tile types at the given position. banned_types has shape (C,).\"\"\"\n",
    "    x, y = ban.node\n",
    "    banned = (~ban.banned).astype(state.compatible.dtype)\n",
    "    wave = state.wave.at[x, y].multiply(banned)  # eliminate the banned tile_types at (x, y)\n",
    "    # eliminate the banned tile_types from the compatible matrix in all directions\n",
    "    compatible = state.compatible.at[x, y, ban.dirs].multiply(banned)\n",
    "    h = entropy(jnp.where(wave[x, y], weights, 0))  # the entropy of the remaining types\n",
    "    entropies = state.entropies.at[x, y].set(h)\n",
    "    return State(wave, compatible, entropies)\n",
    "\n",
    "@jax.jit\n",
    "def _propagate(state: State, problem: Problem, ban: Ban) -> tuple[State, Ban]:\n",
    "    \"\"\"\n",
    "    Propagate the constraints from the given position (2, U) and the given banned types (C,).\n",
    "    directions should be a list of directions to propagate in, e.g. (UP, RIGHT).\n",
    "    \"\"\"\n",
    "    x, y = (ban.node + DIRECTIONS[ban.dirs]).T\n",
    "    # e.g. if pos = (5, 5) \"T\" just got banned,\n",
    "    # then for d = RIGHT,\n",
    "    # we need to eliminate \"T\" from the left-compatible types at (6, 5).\n",
    "    eliminated = jnp.where(ban.banned, problem.propagator[ban.dirs].transpose(0, 2, 1), 0).sum(axis=-1)  # (D, C). Flip to enable broadcasting.\n",
    "    eliminated = eliminated.astype(state.compatible.dtype)\n",
    "    compatible = state.compatible.at[x, y, ban.dirs].add(-eliminated)  # update the compatible counts\n",
    "    banned = (eliminated > 0) & (compatible[x, y, ban.dirs] == 0)  # the types that have just been eliminated\n",
    "    state = state._replace(compatible=compatible)\n",
    "    state = eliminate(state, problem.weights, Ban(jnp.array([x, y]), banned, ban.dirs))\n",
    "    return state, Ban(jnp.array([x, y]), banned)\n",
    "\n",
    "\n",
    "def propagate(state: State, problem: Problem, ban: Ban) -> tuple[State, bool]:\n",
    "    \"\"\"Each element of the stack is a (2 + C) array indicating the position and the list of banned types at that position.\n",
    "    The True elements have been eliminated and the changes need to be propagated.\"\"\"\n",
    "\n",
    "    stack: list[Ban] = [ban]\n",
    "    canvas = jnp.array(state.shape())\n",
    "\n",
    "    while stack:  # the stack contains position-type pairs that have just been eliminated\n",
    "        ban = stack.pop()\n",
    "        p = ban.node + DIRECTIONS\n",
    "        dirs, = jnp.nonzero(((p >= 0) & (p < canvas)).all(axis=-1))\n",
    "        state, ((xx, yy), ban, _) = _propagate(state, problem, ban._replace(dirs=dirs))\n",
    "        for x, y, z in zip(xx, yy, ban):\n",
    "            if z.any():\n",
    "                stack.append(Ban(jnp.array((x, y)), z))\n",
    "\n",
    "    return state, True\n"
   ]
  },
  {
   "cell_type": "code",
   "execution_count": null,
   "metadata": {},
   "outputs": [],
   "source": [
    "with jax.disable_jit():\n",
    "    result = run(jax.random.PRNGKey(0), state, problem)"
   ]
  },
  {
   "cell_type": "code",
   "execution_count": null,
   "metadata": {},
   "outputs": [],
   "source": []
  }
 ],
 "metadata": {
  "kernelspec": {
   "display_name": "base",
   "language": "python",
   "name": "python3"
  },
  "language_info": {
   "codemirror_mode": {
    "name": "ipython",
    "version": 3
   },
   "file_extension": ".py",
   "mimetype": "text/x-python",
   "name": "python",
   "nbconvert_exporter": "python",
   "pygments_lexer": "ipython3",
   "version": "3.9.12"
  },
  "orig_nbformat": 4,
  "vscode": {
   "interpreter": {
    "hash": "c30f2af5f468e7f5b45bcc30fca5f4886c90d54777aed916ed5f6294dfb24bf2"
   }
  }
 },
 "nbformat": 4,
 "nbformat_minor": 2
}
