{
 "cells": [
  {
   "cell_type": "code",
   "execution_count": 1,
   "metadata": {},
   "outputs": [],
   "source": [
    "import jax\n",
    "import jax.numpy as jnp\n",
    "from typing import NamedTuple, Callable, Optional\n",
    "import pandas as pd\n",
    "import matplotlib.pyplot as plt\n",
    "from matplotlib.animation import FuncAnimation\n",
    "import numpy as np\n",
    "from tqdm import tqdm\n",
    "from pathlib import Path\n",
    "from functools import cache"
   ]
  },
  {
   "cell_type": "code",
   "execution_count": 2,
   "metadata": {},
   "outputs": [],
   "source": [
    "visualize = True"
   ]
  },
  {
   "cell_type": "code",
   "execution_count": 3,
   "metadata": {},
   "outputs": [],
   "source": [
    "# all calculations are done in the cartesian plane.\n",
    "# we only transform to pixel coordinates when drawing\n",
    "DIRECTIONS = jnp.array([(1, 0), (0, 1), (-1, 0), (0, -1)])\n",
    "ND = len(DIRECTIONS)\n",
    "RIGHT, UP, LEFT, DOWN = range(ND)  # in clockwise order\n",
    "# TODO make sure to generalize this for arbitrary directions\n",
    "OPPOSITE_DIRS = jnp.arange(ND) ^ 2\n",
    "\n",
    "Position = jnp.ndarray  # (x, y)\n",
    "TileType = int  # index into the tileset\n",
    "TileTypeArray = jnp.ndarray  # (tileset_size,)\n",
    "DirectionSet = jnp.ndarray  # (<= ND,)"
   ]
  },
  {
   "cell_type": "code",
   "execution_count": 4,
   "metadata": {},
   "outputs": [],
   "source": [
    "# What we're building towards. The functions will all be defined later.\n",
    "def solve_wfc(\n",
    "    tileset_path: str, tileset_images: str, w: int, h: int, max_seeds=16, max_steps=1024\n",
    ") -> tuple[list[\"State\"], list[list[\"Ban\"]]]:\n",
    "    tileset = load_tileset(tileset_path, tileset_images)\n",
    "    patterns = load_patterns(tileset)\n",
    "    propagator = create_propagator(tileset, patterns)\n",
    "    problem = Problem(patterns[\"weight\"].values, propagator)\n",
    "    for seed in range(max_seeds):\n",
    "        state = init_state(problem, w, h)\n",
    "        key = jax.random.PRNGKey(seed)\n",
    "        print(f\"Running seed {seed}\")\n",
    "        states, histories, solved = run_wfc(key, state, problem, max_steps=max_steps)\n",
    "        if solved:\n",
    "            return states, histories\n",
    "    raise RuntimeError(\"Could not find a solution\")"
   ]
  },
  {
   "cell_type": "markdown",
   "metadata": {},
   "source": [
    "# Constructing the Tileset"
   ]
  },
  {
   "cell_type": "code",
   "execution_count": 5,
   "metadata": {},
   "outputs": [],
   "source": [
    "class Tileset(NamedTuple):\n",
    "    tiles: pd.DataFrame\n",
    "    neighbors: pd.DataFrame\n",
    "    subsets: dict[str, pd.DataFrame]\n",
    "\n",
    "    def symmetry_name(self, tile: str) -> str:\n",
    "        return self.tiles.at[tile, \"symmetry\"]\n",
    "\n",
    "    def symmetry(self, name: str) -> \"Symmetry\":\n",
    "        \"\"\"Get the symmetry object of a tile.\"\"\"\n",
    "        # SYMMETRIES defined later\n",
    "        return SYMMETRIES[self.symmetry_name(name)]\n",
    "\n",
    "    def load_img(self, name: str, spin: int = 0) -> np.ndarray:\n",
    "        # swap the rows and columns for the rotation to make sense\n",
    "        img = self.tiles.loc[name, \"img\"]\n",
    "        img = np.rot90(img, spin)\n",
    "        return img\n",
    "\n",
    "    def get_subset(self, name: str) -> TileTypeArray:\n",
    "        tiles = self.subsets[name].values\n",
    "        neighbors = self.neighbors.applymap(lambda x: x[0]).isin(tiles).any(axis=1)\n",
    "        return Tileset(self.tiles.loc[tiles], self.neighbors[neighbors], {})\n",
    "\n",
    "\n",
    "def _preprocess(row):\n",
    "    \"\"\"Turn a name in the 'neighbors' table into a (name, spin) pair for indexing into the df.\"\"\"\n",
    "    left, right = row\n",
    "    left, right = left.split(\" \"), right.split(\" \")\n",
    "    if len(left) == 1:\n",
    "        left += [\"0\"]\n",
    "    if len(right) == 1:\n",
    "        right += [\"0\"]\n",
    "    return {\"left\": (left[0], int(left[1])), \"right\": (right[0], int(right[1]))}\n",
    "\n",
    "\n",
    "def load_tileset(path: str, images: str) -> Tileset:\n",
    "    \"\"\"Load a tileset from an XML file and a directory of images.\"\"\"\n",
    "    groups = [\"tiles\", \"neighbors\", \"subsets\"]\n",
    "    tiles, neighbors, subsets = [\n",
    "        pd.read_xml(path, xpath=f\"./{group}/*\") for group in groups\n",
    "    ]\n",
    "\n",
    "    # preprocess the tiles dataframe\n",
    "    tiles = tiles.set_index(\"name\")\n",
    "    tiles[\"img\"] = tiles.index.map(\n",
    "        lambda name: plt.imread(Path(images) / f\"{name}.png\")\n",
    "    )\n",
    "\n",
    "    # preprocess neighbors\n",
    "    neighbors = neighbors.apply(_preprocess, axis=1, result_type=\"expand\")\n",
    "\n",
    "    # preprocess the subsets\n",
    "    subsets = {\n",
    "        name: pd.read_xml(path, xpath=f'./subsets/subset[@name=\"{name}\"]/*')[\"name\"]\n",
    "        for name in subsets[\"name\"]\n",
    "    }\n",
    "\n",
    "    return Tileset(tiles, neighbors, subsets)"
   ]
  },
  {
   "cell_type": "code",
   "execution_count": 6,
   "metadata": {},
   "outputs": [
    {
     "data": {
      "text/html": [
       "<div>\n",
       "<style scoped>\n",
       "    .dataframe tbody tr th:only-of-type {\n",
       "        vertical-align: middle;\n",
       "    }\n",
       "\n",
       "    .dataframe tbody tr th {\n",
       "        vertical-align: top;\n",
       "    }\n",
       "\n",
       "    .dataframe thead th {\n",
       "        text-align: right;\n",
       "    }\n",
       "</style>\n",
       "<table border=\"1\" class=\"dataframe\">\n",
       "  <thead>\n",
       "    <tr style=\"text-align: right;\">\n",
       "      <th></th>\n",
       "      <th>symmetry</th>\n",
       "      <th>weight</th>\n",
       "      <th>img</th>\n",
       "    </tr>\n",
       "    <tr>\n",
       "      <th>name</th>\n",
       "      <th></th>\n",
       "      <th></th>\n",
       "      <th></th>\n",
       "    </tr>\n",
       "  </thead>\n",
       "  <tbody>\n",
       "    <tr>\n",
       "      <th>bridge</th>\n",
       "      <td>I</td>\n",
       "      <td>1.0</td>\n",
       "      <td>[[[0.019607844, 0.4117647, 0.039215688], [0.01...</td>\n",
       "    </tr>\n",
       "    <tr>\n",
       "      <th>component</th>\n",
       "      <td>X</td>\n",
       "      <td>20.0</td>\n",
       "      <td>[[[0.20784314, 0.20784314, 0.20784314], [0.207...</td>\n",
       "    </tr>\n",
       "    <tr>\n",
       "      <th>connection</th>\n",
       "      <td>T</td>\n",
       "      <td>10.0</td>\n",
       "      <td>[[[0.019607844, 0.4117647, 0.039215688], [0.01...</td>\n",
       "    </tr>\n",
       "    <tr>\n",
       "      <th>corner</th>\n",
       "      <td>L</td>\n",
       "      <td>10.0</td>\n",
       "      <td>[[[0.019607844, 0.4117647, 0.039215688], [0.01...</td>\n",
       "    </tr>\n",
       "    <tr>\n",
       "      <th>substrate</th>\n",
       "      <td>X</td>\n",
       "      <td>2.0</td>\n",
       "      <td>[[[0.019607844, 0.4117647, 0.039215688], [0.01...</td>\n",
       "    </tr>\n",
       "    <tr>\n",
       "      <th>t</th>\n",
       "      <td>T</td>\n",
       "      <td>0.1</td>\n",
       "      <td>[[[0.019607844, 0.4117647, 0.039215688], [0.01...</td>\n",
       "    </tr>\n",
       "    <tr>\n",
       "      <th>track</th>\n",
       "      <td>I</td>\n",
       "      <td>2.0</td>\n",
       "      <td>[[[0.019607844, 0.4117647, 0.039215688], [0.01...</td>\n",
       "    </tr>\n",
       "    <tr>\n",
       "      <th>transition</th>\n",
       "      <td>T</td>\n",
       "      <td>0.4</td>\n",
       "      <td>[[[0.019607844, 0.4117647, 0.039215688], [0.01...</td>\n",
       "    </tr>\n",
       "    <tr>\n",
       "      <th>turn</th>\n",
       "      <td>L</td>\n",
       "      <td>1.0</td>\n",
       "      <td>[[[0.019607844, 0.4117647, 0.039215688], [0.01...</td>\n",
       "    </tr>\n",
       "    <tr>\n",
       "      <th>viad</th>\n",
       "      <td>I</td>\n",
       "      <td>0.1</td>\n",
       "      <td>[[[0.019607844, 0.4117647, 0.039215688], [0.01...</td>\n",
       "    </tr>\n",
       "    <tr>\n",
       "      <th>vias</th>\n",
       "      <td>T</td>\n",
       "      <td>0.3</td>\n",
       "      <td>[[[0.019607844, 0.4117647, 0.039215688], [0.01...</td>\n",
       "    </tr>\n",
       "    <tr>\n",
       "      <th>wire</th>\n",
       "      <td>I</td>\n",
       "      <td>0.5</td>\n",
       "      <td>[[[0.019607844, 0.4117647, 0.039215688], [0.01...</td>\n",
       "    </tr>\n",
       "    <tr>\n",
       "      <th>skew</th>\n",
       "      <td>L</td>\n",
       "      <td>2.0</td>\n",
       "      <td>[[[0.019607844, 0.4117647, 0.039215688], [0.01...</td>\n",
       "    </tr>\n",
       "    <tr>\n",
       "      <th>dskew</th>\n",
       "      <td>\\</td>\n",
       "      <td>2.0</td>\n",
       "      <td>[[[0.019607844, 0.4117647, 0.039215688], [0.01...</td>\n",
       "    </tr>\n",
       "  </tbody>\n",
       "</table>\n",
       "</div>"
      ],
      "text/plain": [
       "           symmetry  weight                                                img\n",
       "name                                                                          \n",
       "bridge            I     1.0  [[[0.019607844, 0.4117647, 0.039215688], [0.01...\n",
       "component         X    20.0  [[[0.20784314, 0.20784314, 0.20784314], [0.207...\n",
       "connection        T    10.0  [[[0.019607844, 0.4117647, 0.039215688], [0.01...\n",
       "corner            L    10.0  [[[0.019607844, 0.4117647, 0.039215688], [0.01...\n",
       "substrate         X     2.0  [[[0.019607844, 0.4117647, 0.039215688], [0.01...\n",
       "t                 T     0.1  [[[0.019607844, 0.4117647, 0.039215688], [0.01...\n",
       "track             I     2.0  [[[0.019607844, 0.4117647, 0.039215688], [0.01...\n",
       "transition        T     0.4  [[[0.019607844, 0.4117647, 0.039215688], [0.01...\n",
       "turn              L     1.0  [[[0.019607844, 0.4117647, 0.039215688], [0.01...\n",
       "viad              I     0.1  [[[0.019607844, 0.4117647, 0.039215688], [0.01...\n",
       "vias              T     0.3  [[[0.019607844, 0.4117647, 0.039215688], [0.01...\n",
       "wire              I     0.5  [[[0.019607844, 0.4117647, 0.039215688], [0.01...\n",
       "skew              L     2.0  [[[0.019607844, 0.4117647, 0.039215688], [0.01...\n",
       "dskew             \\     2.0  [[[0.019607844, 0.4117647, 0.039215688], [0.01..."
      ]
     },
     "execution_count": 6,
     "metadata": {},
     "output_type": "execute_result"
    }
   ],
   "source": [
    "circuit_tileset = load_tileset(\"./tilesets/Circuit.xml\", \"./tilesets/Circuit\")\n",
    "circuit_tileset.tiles"
   ]
  },
  {
   "cell_type": "code",
   "execution_count": 7,
   "metadata": {},
   "outputs": [
    {
     "data": {
      "text/html": [
       "<div>\n",
       "<style scoped>\n",
       "    .dataframe tbody tr th:only-of-type {\n",
       "        vertical-align: middle;\n",
       "    }\n",
       "\n",
       "    .dataframe tbody tr th {\n",
       "        vertical-align: top;\n",
       "    }\n",
       "\n",
       "    .dataframe thead th {\n",
       "        text-align: right;\n",
       "    }\n",
       "</style>\n",
       "<table border=\"1\" class=\"dataframe\">\n",
       "  <thead>\n",
       "    <tr style=\"text-align: right;\">\n",
       "      <th></th>\n",
       "      <th>left</th>\n",
       "      <th>right</th>\n",
       "    </tr>\n",
       "  </thead>\n",
       "  <tbody>\n",
       "    <tr>\n",
       "      <th>0</th>\n",
       "      <td>(bridge, 0)</td>\n",
       "      <td>(bridge, 0)</td>\n",
       "    </tr>\n",
       "    <tr>\n",
       "      <th>1</th>\n",
       "      <td>(bridge, 1)</td>\n",
       "      <td>(bridge, 1)</td>\n",
       "    </tr>\n",
       "    <tr>\n",
       "      <th>2</th>\n",
       "      <td>(bridge, 1)</td>\n",
       "      <td>(connection, 1)</td>\n",
       "    </tr>\n",
       "    <tr>\n",
       "      <th>3</th>\n",
       "      <td>(bridge, 1)</td>\n",
       "      <td>(t, 2)</td>\n",
       "    </tr>\n",
       "    <tr>\n",
       "      <th>4</th>\n",
       "      <td>(bridge, 1)</td>\n",
       "      <td>(t, 3)</td>\n",
       "    </tr>\n",
       "    <tr>\n",
       "      <th>...</th>\n",
       "      <td>...</td>\n",
       "      <td>...</td>\n",
       "    </tr>\n",
       "    <tr>\n",
       "      <th>140</th>\n",
       "      <td>(vias, 0)</td>\n",
       "      <td>(skew, 0)</td>\n",
       "    </tr>\n",
       "    <tr>\n",
       "      <th>141</th>\n",
       "      <td>(vias, 1)</td>\n",
       "      <td>(skew, 0)</td>\n",
       "    </tr>\n",
       "    <tr>\n",
       "      <th>142</th>\n",
       "      <td>(vias, 2)</td>\n",
       "      <td>(skew, 0)</td>\n",
       "    </tr>\n",
       "    <tr>\n",
       "      <th>143</th>\n",
       "      <td>(vias, 3)</td>\n",
       "      <td>(skew, 2)</td>\n",
       "    </tr>\n",
       "    <tr>\n",
       "      <th>144</th>\n",
       "      <td>(wire, 1)</td>\n",
       "      <td>(skew, 0)</td>\n",
       "    </tr>\n",
       "  </tbody>\n",
       "</table>\n",
       "<p>145 rows × 2 columns</p>\n",
       "</div>"
      ],
      "text/plain": [
       "            left            right\n",
       "0    (bridge, 0)      (bridge, 0)\n",
       "1    (bridge, 1)      (bridge, 1)\n",
       "2    (bridge, 1)  (connection, 1)\n",
       "3    (bridge, 1)           (t, 2)\n",
       "4    (bridge, 1)           (t, 3)\n",
       "..           ...              ...\n",
       "140    (vias, 0)        (skew, 0)\n",
       "141    (vias, 1)        (skew, 0)\n",
       "142    (vias, 2)        (skew, 0)\n",
       "143    (vias, 3)        (skew, 2)\n",
       "144    (wire, 1)        (skew, 0)\n",
       "\n",
       "[145 rows x 2 columns]"
      ]
     },
     "execution_count": 7,
     "metadata": {},
     "output_type": "execute_result"
    }
   ],
   "source": [
    "circuit_tileset.neighbors"
   ]
  },
  {
   "attachments": {},
   "cell_type": "markdown",
   "metadata": {},
   "source": [
    "## Tile rotations\n",
    "\n",
    "I'll use \"tile\" to refer to the original, unrotated tiles, and \"TILE\" to refer to an element of the massive set of rotated tiles we obtain afterwards.\n",
    "\n",
    "$C$ denotes the number of TILEs."
   ]
  },
  {
   "cell_type": "code",
   "execution_count": 8,
   "metadata": {},
   "outputs": [],
   "source": [
    "class Symmetry(NamedTuple):\n",
    "    \"\"\"\n",
    "    A symmetry group.\n",
    "    If (A > B) is compatible (i.e. A appears to the left of B),\n",
    "    then the following should also be compatible:\n",
    "\n",
    "    - rotate(A) ^ rotate(B)\n",
    "    - flip(B) > flip(A)\n",
    "    \"\"\"\n",
    "\n",
    "    card: int\n",
    "    \"\"\"The number of elements in the symmetry group.\"\"\"\n",
    "\n",
    "    rotate: Callable[[int], int]\n",
    "    \"\"\"Rotate this tile counterclockwise.\"\"\"\n",
    "\n",
    "    flip: Callable[[int], int]\n",
    "    \"\"\"Flip this tile horizontally.\"\"\"\n",
    "\n",
    "\n",
    "id = lambda i: i\n",
    "rotate = lambda i: (i + 1) % 4\n",
    "flipa = lambda i: i ^ 1\n",
    "flipb = lambda i: jnp.where(i % 2 == 0, i, 4 - i)  # flips across the x-axis\n",
    "\n",
    "\n",
    "SYMMETRIES = {\n",
    "    \"X\": Symmetry(1, id, id),\n",
    "    \"L\": Symmetry(4, rotate, flipa),\n",
    "    \"T\": Symmetry(4, rotate, flipb),\n",
    "    \"I\": Symmetry(2, flipa, id),\n",
    "    \"\\\\\": Symmetry(2, flipa, flipa),\n",
    "    \"F\": Symmetry(\n",
    "        8, lambda i: jnp.where(i < 4, rotate(i), 4 + rotate(i)), lambda i: i ^ 4\n",
    "    ),\n",
    "}\n",
    "\n",
    "\n",
    "def _get_symmetry(sym: Symmetry, t=0):\n",
    "    s = []\n",
    "    for _ in range(ND):\n",
    "        s.append((t, sym.flip(t)))\n",
    "        t = sym.rotate(t)\n",
    "    return jnp.array(s)\n",
    "\n",
    "\n",
    "@cache\n",
    "def get_symmetries(symmetry_name: str) -> list[Symmetry]:\n",
    "    s = SYMMETRIES[symmetry_name]\n",
    "    return jax.vmap(_get_symmetry, in_axes=(None, 0))(s, jnp.arange(s.card))"
   ]
  },
  {
   "cell_type": "code",
   "execution_count": 9,
   "metadata": {},
   "outputs": [],
   "source": [
    "def show_symmetries(tileset: Tileset, tile: str):\n",
    "    fig, axs = plt.subplots(2, 5, figsize=(6, 2.2))\n",
    "\n",
    "    symmetry = tileset.symmetry(tile)\n",
    "\n",
    "    axs[0, 0].imshow(tileset.load_img(tile))\n",
    "    axs[0, 0].axis(\"off\")\n",
    "    axs[0, 0].set_title(f\"{tile} ({tileset.symmetry_name(tile)})\")\n",
    "\n",
    "    axs[1, 0].axis(\"off\")\n",
    "\n",
    "    for j, k in enumerate(_get_symmetry(symmetry)):\n",
    "        i = j + 1\n",
    "        k0, k1 = k[0].item(), k[1].item()\n",
    "        axs[0, i].imshow(tileset.load_img(tile, k0))\n",
    "        axs[1, i].imshow(tileset.load_img(tile, k1))\n",
    "        axs[0, i].axis(\"off\")\n",
    "        axs[1, i].axis(\"off\")\n",
    "        axs[0, i].set_title(k0)\n",
    "        axs[1, i].set_title(k1)\n",
    "\n",
    "    plt.show()"
   ]
  },
  {
   "cell_type": "code",
   "execution_count": 10,
   "metadata": {},
   "outputs": [
    {
     "data": {
      "image/png": "[encoded data removed]",
      "text/plain": [
       "<Figure size 600x220 with 10 Axes>"
      ]
     },
     "metadata": {},
     "output_type": "display_data"
    },
    {
     "data": {
      "image/png": "[encoded data removed]",
      "text/plain": [
       "<Figure size 600x220 with 10 Axes>"
      ]
     },
     "metadata": {},
     "output_type": "display_data"
    },
    {
     "data": {
      "image/png": "[encoded data removed]",
      "text/plain": [
       "<Figure size 600x220 with 10 Axes>"
      ]
     },
     "metadata": {},
     "output_type": "display_data"
    },
    {
     "data": {
      "image/png": "[encoded data removed]",
      "text/plain": [
       "<Figure size 600x220 with 10 Axes>"
      ]
     },
     "metadata": {},
     "output_type": "display_data"
    },
    {
     "data": {
      "image/png": "[encoded data removed]",
      "text/plain": [
       "<Figure size 600x220 with 10 Axes>"
      ]
     },
     "metadata": {},
     "output_type": "display_data"
    },
    {
     "data": {
      "image/png": "[encoded data removed]",
      "text/plain": [
       "<Figure size 600x220 with 10 Axes>"
      ]
     },
     "metadata": {},
     "output_type": "display_data"
    },
    {
     "data": {
      "image/png": "[encoded data removed]",
      "text/plain": [
       "<Figure size 600x220 with 10 Axes>"
      ]
     },
     "metadata": {},
     "output_type": "display_data"
    },
    {
     "data": {
      "image/png": "[encoded data removed]",
      "text/plain": [
       "<Figure size 600x220 with 10 Axes>"
      ]
     },
     "metadata": {},
     "output_type": "display_data"
    },
    {
     "data": {
      "image/png": "[encoded data removed]",
      "text/plain": [
       "<Figure size 600x220 with 10 Axes>"
      ]
     },
     "metadata": {},
     "output_type": "display_data"
    },
    {
     "data": {
      "image/png": "[encoded data removed]",
      "text/plain": [
       "<Figure size 600x220 with 10 Axes>"
      ]
     },
     "metadata": {},
     "output_type": "display_data"
    },
    {
     "data": {
      "image/png": "[encoded data removed]",
      "text/plain": [
       "<Figure size 600x220 with 10 Axes>"
      ]
     },
     "metadata": {},
     "output_type": "display_data"
    },
    {
     "data": {
      "image/png": "[encoded data removed]",
      "text/plain": [
       "<Figure size 600x220 with 10 Axes>"
      ]
     },
     "metadata": {},
     "output_type": "display_data"
    },
    {
     "data": {
      "image/png": "[encoded data removed]",
      "text/plain": [
       "<Figure size 600x220 with 10 Axes>"
      ]
     },
     "metadata": {},
     "output_type": "display_data"
    },
    {
     "data": {
      "image/png": "[encoded data removed]",
      "text/plain": [
       "<Figure size 600x220 with 10 Axes>"
      ]
     },
     "metadata": {},
     "output_type": "display_data"
    }
   ],
   "source": [
    "if visualize:\n",
    "    for tile in circuit_tileset.tiles.index:\n",
    "        show_symmetries(circuit_tileset, tile)"
   ]
  },
  {
   "cell_type": "code",
   "execution_count": 11,
   "metadata": {},
   "outputs": [],
   "source": [
    "def load_patterns(tileset: Tileset):\n",
    "    \"\"\"\n",
    "    Turns the set of tiles into the set of TILEs.\n",
    "    \"\"\"\n",
    "    names = []\n",
    "    spins = []\n",
    "    stepsto = []\n",
    "    weights = []\n",
    "\n",
    "    for name, symmetry, weight, _ in tileset.tiles.itertuples():\n",
    "        s = get_symmetries(symmetry)  # Shape (sym.card, 4, 2)\n",
    "        card = s.shape[0]\n",
    "        names.extend([name] * card)\n",
    "        spins.extend(range(card))\n",
    "        stepsto.extend(s + len(stepsto))\n",
    "        weights.extend([weight] * card)\n",
    "\n",
    "    index = pd.MultiIndex.from_arrays([names, spins], names=[\"name\", \"spin\"])\n",
    "    return pd.DataFrame(\n",
    "        {\n",
    "            \"stepsto\": stepsto,\n",
    "            \"weight\": weights,\n",
    "        },\n",
    "        index=index,\n",
    "    )"
   ]
  },
  {
   "cell_type": "code",
   "execution_count": 12,
   "metadata": {},
   "outputs": [
    {
     "data": {
      "text/html": [
       "<div>\n",
       "<style scoped>\n",
       "    .dataframe tbody tr th:only-of-type {\n",
       "        vertical-align: middle;\n",
       "    }\n",
       "\n",
       "    .dataframe tbody tr th {\n",
       "        vertical-align: top;\n",
       "    }\n",
       "\n",
       "    .dataframe thead th {\n",
       "        text-align: right;\n",
       "    }\n",
       "</style>\n",
       "<table border=\"1\" class=\"dataframe\">\n",
       "  <thead>\n",
       "    <tr style=\"text-align: right;\">\n",
       "      <th></th>\n",
       "      <th>name</th>\n",
       "      <th>spin</th>\n",
       "      <th>stepsto</th>\n",
       "      <th>weight</th>\n",
       "    </tr>\n",
       "  </thead>\n",
       "  <tbody>\n",
       "    <tr>\n",
       "      <th>0</th>\n",
       "      <td>bridge</td>\n",
       "      <td>0</td>\n",
       "      <td>[[0, 0], [1, 1], [0, 0], [1, 1]]</td>\n",
       "      <td>1.0</td>\n",
       "    </tr>\n",
       "    <tr>\n",
       "      <th>1</th>\n",
       "      <td>bridge</td>\n",
       "      <td>1</td>\n",
       "      <td>[[1, 1], [0, 0], [1, 1], [0, 0]]</td>\n",
       "      <td>1.0</td>\n",
       "    </tr>\n",
       "    <tr>\n",
       "      <th>2</th>\n",
       "      <td>component</td>\n",
       "      <td>0</td>\n",
       "      <td>[[2, 2], [2, 2], [2, 2], [2, 2]]</td>\n",
       "      <td>20.0</td>\n",
       "    </tr>\n",
       "    <tr>\n",
       "      <th>3</th>\n",
       "      <td>connection</td>\n",
       "      <td>0</td>\n",
       "      <td>[[3, 3], [4, 6], [5, 5], [6, 4]]</td>\n",
       "      <td>10.0</td>\n",
       "    </tr>\n",
       "    <tr>\n",
       "      <th>4</th>\n",
       "      <td>connection</td>\n",
       "      <td>1</td>\n",
       "      <td>[[4, 6], [5, 5], [6, 4], [3, 3]]</td>\n",
       "      <td>10.0</td>\n",
       "    </tr>\n",
       "    <tr>\n",
       "      <th>5</th>\n",
       "      <td>connection</td>\n",
       "      <td>2</td>\n",
       "      <td>[[5, 5], [6, 4], [3, 3], [4, 6]]</td>\n",
       "      <td>10.0</td>\n",
       "    </tr>\n",
       "    <tr>\n",
       "      <th>6</th>\n",
       "      <td>connection</td>\n",
       "      <td>3</td>\n",
       "      <td>[[6, 4], [3, 3], [4, 6], [5, 5]]</td>\n",
       "      <td>10.0</td>\n",
       "    </tr>\n",
       "    <tr>\n",
       "      <th>7</th>\n",
       "      <td>corner</td>\n",
       "      <td>0</td>\n",
       "      <td>[[7, 8], [8, 7], [9, 10], [10, 9]]</td>\n",
       "      <td>10.0</td>\n",
       "    </tr>\n",
       "    <tr>\n",
       "      <th>8</th>\n",
       "      <td>corner</td>\n",
       "      <td>1</td>\n",
       "      <td>[[8, 7], [9, 10], [10, 9], [7, 8]]</td>\n",
       "      <td>10.0</td>\n",
       "    </tr>\n",
       "    <tr>\n",
       "      <th>9</th>\n",
       "      <td>corner</td>\n",
       "      <td>2</td>\n",
       "      <td>[[9, 10], [10, 9], [7, 8], [8, 7]]</td>\n",
       "      <td>10.0</td>\n",
       "    </tr>\n",
       "    <tr>\n",
       "      <th>10</th>\n",
       "      <td>corner</td>\n",
       "      <td>3</td>\n",
       "      <td>[[10, 9], [7, 8], [8, 7], [9, 10]]</td>\n",
       "      <td>10.0</td>\n",
       "    </tr>\n",
       "    <tr>\n",
       "      <th>11</th>\n",
       "      <td>substrate</td>\n",
       "      <td>0</td>\n",
       "      <td>[[11, 11], [11, 11], [11, 11], [11, 11]]</td>\n",
       "      <td>2.0</td>\n",
       "    </tr>\n",
       "    <tr>\n",
       "      <th>12</th>\n",
       "      <td>t</td>\n",
       "      <td>0</td>\n",
       "      <td>[[12, 12], [13, 15], [14, 14], [15, 13]]</td>\n",
       "      <td>0.1</td>\n",
       "    </tr>\n",
       "    <tr>\n",
       "      <th>13</th>\n",
       "      <td>t</td>\n",
       "      <td>1</td>\n",
       "      <td>[[13, 15], [14, 14], [15, 13], [12, 12]]</td>\n",
       "      <td>0.1</td>\n",
       "    </tr>\n",
       "    <tr>\n",
       "      <th>14</th>\n",
       "      <td>t</td>\n",
       "      <td>2</td>\n",
       "      <td>[[14, 14], [15, 13], [12, 12], [13, 15]]</td>\n",
       "      <td>0.1</td>\n",
       "    </tr>\n",
       "    <tr>\n",
       "      <th>15</th>\n",
       "      <td>t</td>\n",
       "      <td>3</td>\n",
       "      <td>[[15, 13], [12, 12], [13, 15], [14, 14]]</td>\n",
       "      <td>0.1</td>\n",
       "    </tr>\n",
       "    <tr>\n",
       "      <th>16</th>\n",
       "      <td>track</td>\n",
       "      <td>0</td>\n",
       "      <td>[[16, 16], [17, 17], [16, 16], [17, 17]]</td>\n",
       "      <td>2.0</td>\n",
       "    </tr>\n",
       "    <tr>\n",
       "      <th>17</th>\n",
       "      <td>track</td>\n",
       "      <td>1</td>\n",
       "      <td>[[17, 17], [16, 16], [17, 17], [16, 16]]</td>\n",
       "      <td>2.0</td>\n",
       "    </tr>\n",
       "    <tr>\n",
       "      <th>18</th>\n",
       "      <td>transition</td>\n",
       "      <td>0</td>\n",
       "      <td>[[18, 18], [19, 21], [20, 20], [21, 19]]</td>\n",
       "      <td>0.4</td>\n",
       "    </tr>\n",
       "    <tr>\n",
       "      <th>19</th>\n",
       "      <td>transition</td>\n",
       "      <td>1</td>\n",
       "      <td>[[19, 21], [20, 20], [21, 19], [18, 18]]</td>\n",
       "      <td>0.4</td>\n",
       "    </tr>\n",
       "    <tr>\n",
       "      <th>20</th>\n",
       "      <td>transition</td>\n",
       "      <td>2</td>\n",
       "      <td>[[20, 20], [21, 19], [18, 18], [19, 21]]</td>\n",
       "      <td>0.4</td>\n",
       "    </tr>\n",
       "    <tr>\n",
       "      <th>21</th>\n",
       "      <td>transition</td>\n",
       "      <td>3</td>\n",
       "      <td>[[21, 19], [18, 18], [19, 21], [20, 20]]</td>\n",
       "      <td>0.4</td>\n",
       "    </tr>\n",
       "    <tr>\n",
       "      <th>22</th>\n",
       "      <td>turn</td>\n",
       "      <td>0</td>\n",
       "      <td>[[22, 23], [23, 22], [24, 25], [25, 24]]</td>\n",
       "      <td>1.0</td>\n",
       "    </tr>\n",
       "    <tr>\n",
       "      <th>23</th>\n",
       "      <td>turn</td>\n",
       "      <td>1</td>\n",
       "      <td>[[23, 22], [24, 25], [25, 24], [22, 23]]</td>\n",
       "      <td>1.0</td>\n",
       "    </tr>\n",
       "    <tr>\n",
       "      <th>24</th>\n",
       "      <td>turn</td>\n",
       "      <td>2</td>\n",
       "      <td>[[24, 25], [25, 24], [22, 23], [23, 22]]</td>\n",
       "      <td>1.0</td>\n",
       "    </tr>\n",
       "    <tr>\n",
       "      <th>25</th>\n",
       "      <td>turn</td>\n",
       "      <td>3</td>\n",
       "      <td>[[25, 24], [22, 23], [23, 22], [24, 25]]</td>\n",
       "      <td>1.0</td>\n",
       "    </tr>\n",
       "    <tr>\n",
       "      <th>26</th>\n",
       "      <td>viad</td>\n",
       "      <td>0</td>\n",
       "      <td>[[26, 26], [27, 27], [26, 26], [27, 27]]</td>\n",
       "      <td>0.1</td>\n",
       "    </tr>\n",
       "    <tr>\n",
       "      <th>27</th>\n",
       "      <td>viad</td>\n",
       "      <td>1</td>\n",
       "      <td>[[27, 27], [26, 26], [27, 27], [26, 26]]</td>\n",
       "      <td>0.1</td>\n",
       "    </tr>\n",
       "    <tr>\n",
       "      <th>28</th>\n",
       "      <td>vias</td>\n",
       "      <td>0</td>\n",
       "      <td>[[28, 28], [29, 31], [30, 30], [31, 29]]</td>\n",
       "      <td>0.3</td>\n",
       "    </tr>\n",
       "    <tr>\n",
       "      <th>29</th>\n",
       "      <td>vias</td>\n",
       "      <td>1</td>\n",
       "      <td>[[29, 31], [30, 30], [31, 29], [28, 28]]</td>\n",
       "      <td>0.3</td>\n",
       "    </tr>\n",
       "    <tr>\n",
       "      <th>30</th>\n",
       "      <td>vias</td>\n",
       "      <td>2</td>\n",
       "      <td>[[30, 30], [31, 29], [28, 28], [29, 31]]</td>\n",
       "      <td>0.3</td>\n",
       "    </tr>\n",
       "    <tr>\n",
       "      <th>31</th>\n",
       "      <td>vias</td>\n",
       "      <td>3</td>\n",
       "      <td>[[31, 29], [28, 28], [29, 31], [30, 30]]</td>\n",
       "      <td>0.3</td>\n",
       "    </tr>\n",
       "    <tr>\n",
       "      <th>32</th>\n",
       "      <td>wire</td>\n",
       "      <td>0</td>\n",
       "      <td>[[32, 32], [33, 33], [32, 32], [33, 33]]</td>\n",
       "      <td>0.5</td>\n",
       "    </tr>\n",
       "    <tr>\n",
       "      <th>33</th>\n",
       "      <td>wire</td>\n",
       "      <td>1</td>\n",
       "      <td>[[33, 33], [32, 32], [33, 33], [32, 32]]</td>\n",
       "      <td>0.5</td>\n",
       "    </tr>\n",
       "    <tr>\n",
       "      <th>34</th>\n",
       "      <td>skew</td>\n",
       "      <td>0</td>\n",
       "      <td>[[34, 35], [35, 34], [36, 37], [37, 36]]</td>\n",
       "      <td>2.0</td>\n",
       "    </tr>\n",
       "    <tr>\n",
       "      <th>35</th>\n",
       "      <td>skew</td>\n",
       "      <td>1</td>\n",
       "      <td>[[35, 34], [36, 37], [37, 36], [34, 35]]</td>\n",
       "      <td>2.0</td>\n",
       "    </tr>\n",
       "    <tr>\n",
       "      <th>36</th>\n",
       "      <td>skew</td>\n",
       "      <td>2</td>\n",
       "      <td>[[36, 37], [37, 36], [34, 35], [35, 34]]</td>\n",
       "      <td>2.0</td>\n",
       "    </tr>\n",
       "    <tr>\n",
       "      <th>37</th>\n",
       "      <td>skew</td>\n",
       "      <td>3</td>\n",
       "      <td>[[37, 36], [34, 35], [35, 34], [36, 37]]</td>\n",
       "      <td>2.0</td>\n",
       "    </tr>\n",
       "    <tr>\n",
       "      <th>38</th>\n",
       "      <td>dskew</td>\n",
       "      <td>0</td>\n",
       "      <td>[[38, 39], [39, 38], [38, 39], [39, 38]]</td>\n",
       "      <td>2.0</td>\n",
       "    </tr>\n",
       "    <tr>\n",
       "      <th>39</th>\n",
       "      <td>dskew</td>\n",
       "      <td>1</td>\n",
       "      <td>[[39, 38], [38, 39], [39, 38], [38, 39]]</td>\n",
       "      <td>2.0</td>\n",
       "    </tr>\n",
       "  </tbody>\n",
       "</table>\n",
       "</div>"
      ],
      "text/plain": [
       "          name  spin                                   stepsto  weight\n",
       "0       bridge     0          [[0, 0], [1, 1], [0, 0], [1, 1]]     1.0\n",
       "1       bridge     1          [[1, 1], [0, 0], [1, 1], [0, 0]]     1.0\n",
       "2    component     0          [[2, 2], [2, 2], [2, 2], [2, 2]]    20.0\n",
       "3   connection     0          [[3, 3], [4, 6], [5, 5], [6, 4]]    10.0\n",
       "4   connection     1          [[4, 6], [5, 5], [6, 4], [3, 3]]    10.0\n",
       "5   connection     2          [[5, 5], [6, 4], [3, 3], [4, 6]]    10.0\n",
       "6   connection     3          [[6, 4], [3, 3], [4, 6], [5, 5]]    10.0\n",
       "7       corner     0        [[7, 8], [8, 7], [9, 10], [10, 9]]    10.0\n",
       "8       corner     1        [[8, 7], [9, 10], [10, 9], [7, 8]]    10.0\n",
       "9       corner     2        [[9, 10], [10, 9], [7, 8], [8, 7]]    10.0\n",
       "10      corner     3        [[10, 9], [7, 8], [8, 7], [9, 10]]    10.0\n",
       "11   substrate     0  [[11, 11], [11, 11], [11, 11], [11, 11]]     2.0\n",
       "12           t     0  [[12, 12], [13, 15], [14, 14], [15, 13]]     0.1\n",
       "13           t     1  [[13, 15], [14, 14], [15, 13], [12, 12]]     0.1\n",
       "14           t     2  [[14, 14], [15, 13], [12, 12], [13, 15]]     0.1\n",
       "15           t     3  [[15, 13], [12, 12], [13, 15], [14, 14]]     0.1\n",
       "16       track     0  [[16, 16], [17, 17], [16, 16], [17, 17]]     2.0\n",
       "17       track     1  [[17, 17], [16, 16], [17, 17], [16, 16]]     2.0\n",
       "18  transition     0  [[18, 18], [19, 21], [20, 20], [21, 19]]     0.4\n",
       "19  transition     1  [[19, 21], [20, 20], [21, 19], [18, 18]]     0.4\n",
       "20  transition     2  [[20, 20], [21, 19], [18, 18], [19, 21]]     0.4\n",
       "21  transition     3  [[21, 19], [18, 18], [19, 21], [20, 20]]     0.4\n",
       "22        turn     0  [[22, 23], [23, 22], [24, 25], [25, 24]]     1.0\n",
       "23        turn     1  [[23, 22], [24, 25], [25, 24], [22, 23]]     1.0\n",
       "24        turn     2  [[24, 25], [25, 24], [22, 23], [23, 22]]     1.0\n",
       "25        turn     3  [[25, 24], [22, 23], [23, 22], [24, 25]]     1.0\n",
       "26        viad     0  [[26, 26], [27, 27], [26, 26], [27, 27]]     0.1\n",
       "27        viad     1  [[27, 27], [26, 26], [27, 27], [26, 26]]     0.1\n",
       "28        vias     0  [[28, 28], [29, 31], [30, 30], [31, 29]]     0.3\n",
       "29        vias     1  [[29, 31], [30, 30], [31, 29], [28, 28]]     0.3\n",
       "30        vias     2  [[30, 30], [31, 29], [28, 28], [29, 31]]     0.3\n",
       "31        vias     3  [[31, 29], [28, 28], [29, 31], [30, 30]]     0.3\n",
       "32        wire     0  [[32, 32], [33, 33], [32, 32], [33, 33]]     0.5\n",
       "33        wire     1  [[33, 33], [32, 32], [33, 33], [32, 32]]     0.5\n",
       "34        skew     0  [[34, 35], [35, 34], [36, 37], [37, 36]]     2.0\n",
       "35        skew     1  [[35, 34], [36, 37], [37, 36], [34, 35]]     2.0\n",
       "36        skew     2  [[36, 37], [37, 36], [34, 35], [35, 34]]     2.0\n",
       "37        skew     3  [[37, 36], [34, 35], [35, 34], [36, 37]]     2.0\n",
       "38       dskew     0  [[38, 39], [39, 38], [38, 39], [39, 38]]     2.0\n",
       "39       dskew     1  [[39, 38], [38, 39], [39, 38], [38, 39]]     2.0"
      ]
     },
     "execution_count": 12,
     "metadata": {},
     "output_type": "execute_result"
    }
   ],
   "source": [
    "patterns = load_patterns(circuit_tileset)\n",
    "patterns.reset_index()"
   ]
  },
  {
   "attachments": {},
   "cell_type": "markdown",
   "metadata": {},
   "source": [
    "# Propagation\n",
    "\n",
    "Great! Now that we have the set of rotations set up,\n",
    "we need to be able to tell which tile types are allowed to be\n",
    "next to each other. We'll do this with a `propagator` matrix defined below."
   ]
  },
  {
   "cell_type": "code",
   "execution_count": 13,
   "metadata": {},
   "outputs": [],
   "source": [
    "class _Indexer:\n",
    "    def __getitem__(self, idx):\n",
    "        return lambda x: x[idx].item()\n",
    "\n",
    "\n",
    "_indexer = _Indexer()\n",
    "\n",
    "\n",
    "def create_propagator(tileset: Tileset, patterns: pd.DataFrame) -> jnp.ndarray:\n",
    "    \"\"\"Shape (D, C, C). propagator[dir, from, to] is True if\n",
    "    the tile `from` is compatible with tile `to` in direction `dir`.\n",
    "    For example, propagator[RIGHT, L, R] means that the tile pattern L -> R is allowed.\n",
    "\n",
    "    stepsto should be a dataframe returned by load_patterns.\n",
    "    The multiindex should be (name, spin) and the columns are (stepsto, weight).\"\"\"\n",
    "\n",
    "    pairl, pairr = tileset.neighbors[\"left\"], tileset.neighbors[\"right\"]\n",
    "    lstep = patterns.loc[pairl, \"stepsto\"]\n",
    "    rstep = patterns.loc[pairr, \"stepsto\"]\n",
    "    d = lstep.map(_indexer[1, 0])\n",
    "    u = rstep.map(_indexer[1, 0])\n",
    "    dstep = patterns.iloc[d, 0]\n",
    "    ustep = patterns.iloc[u, 0]\n",
    "\n",
    "    transforms = [\n",
    "        [0, 0],\n",
    "        [0, 1],\n",
    "        [2, 0],\n",
    "        [2, 1],\n",
    "    ]\n",
    "\n",
    "    tuples = [\n",
    "        *zip((lstep, rstep, rstep, lstep), transforms),  # left\n",
    "        *zip((rstep, lstep, lstep, rstep), transforms),  # right\n",
    "        *zip((dstep, dstep, ustep, ustep), transforms),  # down\n",
    "        *zip((ustep, ustep, dstep, dstep), transforms),  # up\n",
    "    ]\n",
    "\n",
    "    indices = [\n",
    "        step.map(_indexer[rotation, flip]).values for step, (rotation, flip) in tuples\n",
    "    ]\n",
    "\n",
    "    propagator = (\n",
    "        jnp.zeros((ND, len(patterns), len(patterns)), dtype=np.bool_)\n",
    "        .at[RIGHT, indices[0:4], indices[4:8]]\n",
    "        .set(True)\n",
    "        .at[UP, indices[8:12], indices[12:16]]\n",
    "        .set(True)\n",
    "    )\n",
    "\n",
    "    propagator = (\n",
    "        propagator.at[LEFT].set(propagator[RIGHT].T).at[DOWN].set(propagator[UP].T)\n",
    "    )\n",
    "\n",
    "    return propagator"
   ]
  },
  {
   "cell_type": "code",
   "execution_count": 14,
   "metadata": {},
   "outputs": [],
   "source": [
    "propagator = create_propagator(circuit_tileset, patterns)\n",
    "assert propagator.shape == (ND, len(patterns), len(patterns))"
   ]
  },
  {
   "cell_type": "code",
   "execution_count": 15,
   "metadata": {},
   "outputs": [],
   "source": [
    "def plot_connections(tileset: Tileset, tile: str, spin=0, d=RIGHT):\n",
    "    \"\"\"Visualize the connections in the propagator for a given tile and direction.\"\"\"\n",
    "    idx = patterns.index.get_loc((tile, spin))\n",
    "    (dst,) = jnp.nonzero(propagator[d, idx])  # list of possible destination tiles\n",
    "\n",
    "    print(f\"{tile} ({spin}) -> {len(dst)} options\")\n",
    "\n",
    "    fig, axs = plt.subplots(1, 1 + len(dst), figsize=(1 + len(dst), 1))\n",
    "\n",
    "    axs[0].imshow(tileset.load_img(tile, spin))\n",
    "    axs[0].axis(\"off\")\n",
    "    axs[0].set_title(f\"{tile} {spin}\")\n",
    "\n",
    "    for i, j in enumerate(dst):\n",
    "        name, spin = patterns.iloc[j.item()].name\n",
    "        axs[i + 1].imshow(tileset.load_img(name, spin))\n",
    "        axs[i + 1].axis(\"off\")\n",
    "        axs[i + 1].set_title(f\"{name} {spin}\")\n",
    "\n",
    "    plt.show()"
   ]
  },
  {
   "cell_type": "code",
   "execution_count": 16,
   "metadata": {},
   "outputs": [
    {
     "name": "stdout",
     "output_type": "stream",
     "text": [
      "bridge (0) -> 14 options\n"
     ]
    },
    {
     "data": {
      "image/png": "[encoded data removed]",
      "text/plain": [
       "<Figure size 1500x100 with 15 Axes>"
      ]
     },
     "metadata": {},
     "output_type": "display_data"
    },
    {
     "name": "stdout",
     "output_type": "stream",
     "text": [
      "bridge (1) -> 3 options\n"
     ]
    },
    {
     "data": {
      "image/png": "[encoded data removed]",
      "text/plain": [
       "<Figure size 400x100 with 4 Axes>"
      ]
     },
     "metadata": {},
     "output_type": "display_data"
    },
    {
     "name": "stdout",
     "output_type": "stream",
     "text": [
      "component (0) -> 2 options\n"
     ]
    },
    {
     "data": {
      "image/png": "[encoded data removed]",
      "text/plain": [
       "<Figure size 300x100 with 3 Axes>"
      ]
     },
     "metadata": {},
     "output_type": "display_data"
    },
    {
     "name": "stdout",
     "output_type": "stream",
     "text": [
      "connection (0) -> 1 options\n"
     ]
    },
    {
     "data": {
      "image/png": "[encoded data removed]",
      "text/plain": [
       "<Figure size 200x100 with 2 Axes>"
      ]
     },
     "metadata": {},
     "output_type": "display_data"
    },
    {
     "name": "stdout",
     "output_type": "stream",
     "text": [
      "connection (1) -> 2 options\n"
     ]
    },
    {
     "data": {
      "image/png": "[encoded data removed]",
      "text/plain": [
       "<Figure size 300x100 with 3 Axes>"
      ]
     },
     "metadata": {},
     "output_type": "display_data"
    },
    {
     "name": "stdout",
     "output_type": "stream",
     "text": [
      "connection (2) -> 11 options\n"
     ]
    },
    {
     "data": {
      "image/png": "[encoded data removed]",
      "text/plain": [
       "<Figure size 1200x100 with 12 Axes>"
      ]
     },
     "metadata": {},
     "output_type": "display_data"
    },
    {
     "name": "stdout",
     "output_type": "stream",
     "text": [
      "connection (3) -> 2 options\n"
     ]
    },
    {
     "data": {
      "image/png": "[encoded data removed]",
      "text/plain": [
       "<Figure size 300x100 with 3 Axes>"
      ]
     },
     "metadata": {},
     "output_type": "display_data"
    },
    {
     "name": "stdout",
     "output_type": "stream",
     "text": [
      "corner (0) -> 1 options\n"
     ]
    },
    {
     "data": {
      "image/png": "[encoded data removed]",
      "text/plain": [
       "<Figure size 200x100 with 2 Axes>"
      ]
     },
     "metadata": {},
     "output_type": "display_data"
    },
    {
     "name": "stdout",
     "output_type": "stream",
     "text": [
      "corner (1) -> 1 options\n"
     ]
    },
    {
     "data": {
      "image/png": "[encoded data removed]",
      "text/plain": [
       "<Figure size 200x100 with 2 Axes>"
      ]
     },
     "metadata": {},
     "output_type": "display_data"
    },
    {
     "name": "stdout",
     "output_type": "stream",
     "text": [
      "corner (2) -> 14 options\n"
     ]
    },
    {
     "data": {
      "image/png": "[encoded data removed]",
      "text/plain": [
       "<Figure size 1500x100 with 15 Axes>"
      ]
     },
     "metadata": {},
     "output_type": "display_data"
    },
    {
     "name": "stdout",
     "output_type": "stream",
     "text": [
      "corner (3) -> 14 options\n"
     ]
    },
    {
     "data": {
      "image/png": "[encoded data removed]",
      "text/plain": [
       "<Figure size 1500x100 with 15 Axes>"
      ]
     },
     "metadata": {},
     "output_type": "display_data"
    }
   ],
   "source": [
    "if visualize:\n",
    "    # pick some of the tiles types to visualize their connections\n",
    "    for tile in circuit_tileset.tiles.index[:4]:\n",
    "        for spin in range(circuit_tileset.symmetry(tile).card):\n",
    "            plot_connections(circuit_tileset, tile, spin, DOWN)"
   ]
  },
  {
   "attachments": {},
   "cell_type": "markdown",
   "metadata": {},
   "source": [
    "# WFC\n",
    "\n",
    "Now let's build the actual algorithm for \"collapsing the wave function\"!\n",
    "The \"wave function\" itself is a boolean array. For each (node, tile type) pair,\n",
    "it tracks whether or not this pair is still valid."
   ]
  },
  {
   "attachments": {},
   "cell_type": "markdown",
   "metadata": {},
   "source": [
    "## State and problem setup"
   ]
  },
  {
   "cell_type": "code",
   "execution_count": 17,
   "metadata": {},
   "outputs": [],
   "source": [
    "class State(NamedTuple):\n",
    "    \"\"\"The state of the WFC algorithm.\"\"\"\n",
    "\n",
    "    wave: jnp.ndarray\n",
    "    \"\"\"Shape (W, H, C). wave[x, y, k] is True if pattern k is possible at\n",
    "    position (x, y), and False otherwise.\"\"\"\n",
    "\n",
    "    compatible: jnp.ndarray\n",
    "    \"\"\"Shape (W, H, D, C). compatible[x, y, d, k] counts how many ways there are to get\n",
    "    type k at position (x, y) _from_ direction d.\"\"\"\n",
    "\n",
    "    entropies: jnp.ndarray\n",
    "    \"\"\"Shape (W, H). The entropy of each position. Used for picking the next state.\"\"\"\n",
    "\n",
    "    def ntypes(self):\n",
    "        return self.wave.shape[-1]\n",
    "\n",
    "    def shape(self):\n",
    "        return self.entropies.shape\n",
    "\n",
    "    def positions(self):\n",
    "        w, h = self.shape()\n",
    "        return jnp.mgrid[:w, :h].reshape(2, -1).T\n",
    "\n",
    "    def counts(self):\n",
    "        return self.wave.sum(axis=-1)\n",
    "\n",
    "    def neighbors(self, node: Position):\n",
    "        # TODO check for periodic case\n",
    "        p = node + DIRECTIONS\n",
    "        bounds = jnp.array(self.shape())\n",
    "        # don't pick collapsed nodes\n",
    "        in_bounds = ((p >= 0) & (p < bounds)).all(axis=-1)\n",
    "        collapsed = self.is_collapsed()[p[:, 0], p[:, 1]]\n",
    "        (dirs,) = jnp.nonzero(in_bounds & (~collapsed))\n",
    "        return dirs\n",
    "\n",
    "    def is_collapsed(self):\n",
    "        \"\"\"Shape (W, H). True if the wave is collapsed at the given position.\"\"\"\n",
    "        return self.counts() == 1\n",
    "\n",
    "    def observed(self):\n",
    "        \"\"\"Get the tile types at the given locations\"\"\"\n",
    "        assert self.is_collapsed().all()\n",
    "        return self.wave.argmax(axis=-1)\n",
    "\n",
    "    # ===== For illustrations =====\n",
    "\n",
    "    def to_str(self, patterns: pd.DataFrame):\n",
    "        \"\"\"Get a string representation of this state.\"\"\"\n",
    "        idx = self.wave.argmax(axis=-1).reshape(-1)\n",
    "        tiles = patterns.iloc[idx].index.tolist()\n",
    "        return np.reshape([f\"{tile} {spin}\" for tile, spin in tiles], self.shape())\n",
    "\n",
    "    def to_img(self, tileset: Tileset, patterns: pd.DataFrame, tw=14, th=14):\n",
    "        \"\"\"Draw the current state of the wave function.\"\"\"\n",
    "        w, h = self.shape()\n",
    "        img = np.ones((h * th, w * tw, 3))  # fill in the rest with white\n",
    "        for x, y in jnp.argwhere(self.is_collapsed()):\n",
    "            idx = self.wave[x, y].argmax().item()\n",
    "            tile_img = tileset.load_img(*patterns.iloc[idx].name)\n",
    "            y = h - y - 1\n",
    "            img[y * th : (y + 1) * th, x * tw : (x + 1) * tw] = tile_img\n",
    "        return img\n",
    "\n",
    "    def draw(self, tileset: Tileset, patterns: pd.DataFrame, ax=None):\n",
    "        if ax is None:\n",
    "            fig, ax = plt.subplots()\n",
    "        ax.imshow(self.to_img(tileset, patterns))\n",
    "        ax.set_xticks([])\n",
    "        ax.set_yticks([])\n",
    "        return ax"
   ]
  },
  {
   "cell_type": "code",
   "execution_count": 18,
   "metadata": {},
   "outputs": [],
   "source": [
    "class Problem(NamedTuple):\n",
    "    \"\"\"The problem to be solved by the WFC algorithm.\"\"\"\n",
    "\n",
    "    weights: TileTypeArray\n",
    "    \"\"\"The marginal unnormalized positive probability assigned to each pattern.\"\"\"\n",
    "\n",
    "    propagator: jnp.ndarray\n",
    "    \"\"\"Shape (D, C, C). propagator[dir, from, to] is True if the tile `from` is\n",
    "    compatible with tile `to` in direction `dir`.\n",
    "    e.g. propagator[RIGHT, L, R] means that the tile pattern L > R is allowed.\"\"\"\n",
    "\n",
    "\n",
    "class Ban(NamedTuple):\n",
    "    \"\"\"A ban on a particular pattern at a particular position.\"\"\"\n",
    "\n",
    "    node: Position\n",
    "    banned: TileTypeArray\n",
    "    dirs: Optional[DirectionSet] = None\n",
    "\n",
    "    @property\n",
    "    def idx(self):\n",
    "        \"\"\"Get a value for indexing into an array. Do nothing if dirs is None.\"\"\"\n",
    "        return self.dirs if self.dirs is not None else ..."
   ]
  },
  {
   "cell_type": "code",
   "execution_count": 19,
   "metadata": {},
   "outputs": [],
   "source": [
    "def init_state(problem: Problem, W: int, H: int) -> State:\n",
    "    \"\"\"Initializes the state of the WFC algorithm.\"\"\"\n",
    "    C = problem.weights.shape[0]\n",
    "    wave = jnp.ones((W, H, C), dtype=jnp.bool_)\n",
    "    entropies = jnp.full((W, H), entropy(problem.weights))\n",
    "    # (D, C) how many tiles can each tile C connect to in that direction D?\n",
    "    counts = problem.propagator.sum(axis=-1)\n",
    "    compatible = jnp.broadcast_to(counts[OPPOSITE_DIRS], (W, H, ND, C))\n",
    "    return State(wave, compatible, entropies)\n",
    "\n",
    "\n",
    "@jax.jit\n",
    "def entropy(weights: jnp.ndarray):\n",
    "    \"\"\"Weights should be the unnormalized positive probability of each tile type.\n",
    "    Not to be confused with logits = log(weights).\"\"\"\n",
    "    s = jnp.sum(weights, axis=-1)\n",
    "    w = jnp.where(weights > 0, weights * jnp.log(weights), 0)  # avoid log zero errors\n",
    "    return jnp.log(s) - jnp.sum(w, axis=-1) / s"
   ]
  },
  {
   "attachments": {},
   "cell_type": "markdown",
   "metadata": {},
   "source": [
    "## Algorithm"
   ]
  },
  {
   "cell_type": "code",
   "execution_count": 20,
   "metadata": {},
   "outputs": [],
   "source": [
    "def step(key, state: State, problem: Problem):\n",
    "    ka, kb = jax.random.split(key)\n",
    "    node = next_node(ka, state)\n",
    "    ban = collapse(kb, state, problem.weights, node)\n",
    "    state, history = propagate(state, problem, ban)\n",
    "    return state, history\n",
    "\n",
    "\n",
    "def run_wfc(\n",
    "    key, state: State, problem: Problem, max_steps=10_000\n",
    ") -> tuple[list[State], bool]:\n",
    "    \"\"\"Run Wave Function Collapse for a maximum of `max_steps` steps.\"\"\"\n",
    "    states, histories = [], []\n",
    "\n",
    "    for _ in tqdm(range(max_steps)):\n",
    "        key, subkey = jax.random.split(key)\n",
    "        state, history = step(subkey, state, problem)\n",
    "        states.append(state)\n",
    "        histories.append(history)\n",
    "\n",
    "        if jnp.any(state.counts() < 1):\n",
    "            print(\"No solution found\")\n",
    "            return states, histories, False\n",
    "\n",
    "        if state.is_collapsed().all():\n",
    "            print(\"Solution found\")\n",
    "            return states, histories, True\n",
    "\n",
    "    print(\"Max steps reached\")\n",
    "\n",
    "    return states, histories, True"
   ]
  },
  {
   "cell_type": "code",
   "execution_count": 21,
   "metadata": {},
   "outputs": [],
   "source": [
    "@jax.jit\n",
    "def next_node(key, state: State, std=1e-6) -> Position:\n",
    "    \"\"\"\n",
    "    Assumes that the wave is not fully collapsed.\n",
    "    Get a minimum-entropy state that has not yet been fully observed.\n",
    "    TODO I'm not really sure what the noise is doing here.\n",
    "    \"\"\"\n",
    "    ka, kb = jax.random.split(key)\n",
    "    # don't pick collapsed positions\n",
    "    entropies = jnp.where(state.is_collapsed(), jnp.inf, state.entropies)\n",
    "    noise = jax.random.normal(ka, entropies.shape) * std\n",
    "\n",
    "    # a mask (W, H) of positions with minimum entropy\n",
    "    min_mask = jnp.isclose(entropies + noise, entropies.min())\n",
    "    # choose uniformly from those positions\n",
    "    p = min_mask.reshape(-1) / min_mask.sum()\n",
    "    return jax.random.choice(kb, state.positions(), p=p)"
   ]
  },
  {
   "cell_type": "code",
   "execution_count": 22,
   "metadata": {},
   "outputs": [],
   "source": [
    "@jax.jit\n",
    "def collapse(key, state: State, weights: jnp.ndarray, node: Position) -> Ban:\n",
    "    \"\"\"'Collapse' the wave at the given node by sampling a given pattern\n",
    "    according to the weights of the valid patterns.\n",
    "    Return a mask of eliminated types at that position.\"\"\"\n",
    "    x, y = node\n",
    "\n",
    "    # choose a pattern from the valid patterns at this position\n",
    "    valid: TileTypeArray = state.wave[x, y] * weights\n",
    "    pattern = jax.random.choice(key, state.ntypes(), p=valid / valid.sum())\n",
    "\n",
    "    # eliminate all other valid patterns at this position\n",
    "    banned = state.wave[x, y].at[pattern].set(False)\n",
    "    return Ban(node, banned)"
   ]
  },
  {
   "cell_type": "code",
   "execution_count": 23,
   "metadata": {},
   "outputs": [],
   "source": [
    "@jax.jit\n",
    "def eliminate(state: State, weights: TileTypeArray, ban: Ban) -> State:\n",
    "    \"\"\"Eliminate the given tile types at the given position. banned_types has shape (C,).\"\"\"\n",
    "    x_ary, y_ary = ban.node\n",
    "\n",
    "    # banned = 0, valid = 1\n",
    "    valid_types = (~ban.banned).astype(state.compatible.dtype)\n",
    "\n",
    "    # update the wave\n",
    "    wave = state.wave.at[x_ary, y_ary].multiply(valid_types)\n",
    "\n",
    "    # from all directions in ban.idx,\n",
    "    # it is no longer possible to get any of the banned types\n",
    "    compatible = state.compatible.at[x_ary, y_ary, ban.idx].multiply(valid_types)\n",
    "\n",
    "    # the entropy of the remaining valid types\n",
    "    h = entropy(wave[x_ary, y_ary].astype(weights.dtype) * weights)\n",
    "    entropies = state.entropies.at[x_ary, y_ary].set(h)\n",
    "    return State(wave, compatible, entropies)"
   ]
  },
  {
   "cell_type": "code",
   "execution_count": 24,
   "metadata": {},
   "outputs": [],
   "source": [
    "def propagate(state: State, problem: Problem, ban: Ban) -> tuple[State, list[Ban]]:\n",
    "    \"\"\"Eliminates the banned types at the given position and propagates the changes.\"\"\"\n",
    "\n",
    "    state = eliminate(state, problem.weights, ban)\n",
    "\n",
    "    stack: list[Ban] = [ban]\n",
    "    \"\"\"contains position-type pairs that have just been eliminated\"\"\"\n",
    "\n",
    "    history = []\n",
    "\n",
    "    while stack:\n",
    "        ban = stack.pop()\n",
    "        history.append(ban)\n",
    "\n",
    "        dirs = state.neighbors(ban.node)\n",
    "        if len(dirs) == 0:\n",
    "            continue\n",
    "\n",
    "        # propagate to the neighbors\n",
    "        ban = ban._replace(dirs=dirs)\n",
    "        state, ((x_ary, y_ary), eliminated, _) = _propagate(state, problem, ban)\n",
    "\n",
    "        # decompose the stacked ban into one ban in each direction.\n",
    "        # for each set of types that are banned, eliminate those (update the state)\n",
    "        # and add to the stack for propagation.\n",
    "        for x, y, banned in zip(x_ary, y_ary, eliminated):\n",
    "            if banned.any():\n",
    "                ban = Ban(jnp.array((x, y)), banned)\n",
    "                state = eliminate(state, problem.weights, ban)\n",
    "                stack.append(ban)\n",
    "\n",
    "    return state, history\n",
    "\n",
    "\n",
    "@jax.jit\n",
    "def _propagate(state: State, problem: Problem, ban: Ban) -> tuple[State, Ban]:\n",
    "    \"\"\"\n",
    "    Propagate from the given position and the given banned types.\n",
    "\n",
    "    e.g. if pos = (5, 5) \"T\" just got banned,\n",
    "    then for d = RIGHT,\n",
    "    we need to eliminate \"T\" from the left-compatible types at (6, 5).\n",
    "\n",
    "    Returns a state with the updated compatibility counts and a Ban with the\n",
    "    types to eliminate at the target positions.\n",
    "    \"\"\"\n",
    "    # the number of types that have just been eliminated. sum along the _source_ types.\n",
    "    # final shape (D, C). eliminated[d, c] is the number of types that are _no longer achievable_ from direction d.\n",
    "    eliminated = problem.propagator[ban.idx, :, :] & ban.banned.reshape(-1, 1)\n",
    "    eliminated = eliminated.sum(axis=1)\n",
    "\n",
    "    # the positions to propagate the changes to\n",
    "    x_ary, y_ary = (ban.node + DIRECTIONS[ban.idx]).T\n",
    "\n",
    "    # number of ways to get to some type from the given direction\n",
    "    existing = state.compatible[x_ary, y_ary, ban.idx, :]\n",
    "    eliminated = jnp.minimum(eliminated, existing)\n",
    "    bans = (existing > 0) & (eliminated == existing)  # (D, C)\n",
    "\n",
    "    # update the compatible counts\n",
    "    compatible = state.compatible.at[x_ary, y_ary, ban.idx, :].add(-eliminated)\n",
    "    state = state._replace(compatible=compatible)\n",
    "    ban = Ban((x_ary, y_ary), bans, ban.dirs)\n",
    "\n",
    "    return state, ban"
   ]
  },
  {
   "cell_type": "code",
   "execution_count": 25,
   "metadata": {},
   "outputs": [
    {
     "name": "stdout",
     "output_type": "stream",
     "text": [
      "Running seed 0\n"
     ]
    },
    {
     "name": "stderr",
     "output_type": "stream",
     "text": [
      "  0%|          | 0/1024 [00:00<?, ?it/s]/usr/local/Caskroom/miniconda/base/lib/python3.9/site-packages/jax/_src/ops/scatter.py:87: FutureWarning: scatter inputs have incompatible types: cannot safely cast value from dtype=int32 to dtype=bool. In future JAX releases this will result in an error.\n",
      "  warnings.warn(\"scatter inputs have incompatible types: cannot safely cast \"\n",
      " 14%|█▍        | 146/1024 [00:28<02:54,  5.04it/s]\n"
     ]
    },
    {
     "name": "stdout",
     "output_type": "stream",
     "text": [
      "Solution found\n",
      "[['component 0' 'component 0' 'component 0' 'component 0' 'component 0'\n",
      "  'component 0' 'component 0' 'component 0' 'connection 0' 'track 0'\n",
      "  'skew 3' 'corner 3' 'connection 3' 'corner 0' 'vias 3' 'skew 0']\n",
      " ['component 0' 'component 0' 'component 0' 'component 0' 'component 0'\n",
      "  'component 0' 'component 0' 'component 0' 'connection 0' 'turn 3'\n",
      "  'transition 3' 'skew 0' 'skew 2' 'skew 0' 'skew 2' 'turn 1']\n",
      " ['component 0' 'component 0' 'component 0' 'component 0' 'component 0'\n",
      "  'component 0' 'component 0' 'component 0' 'connection 0' 'skew 2'\n",
      "  'wire 0' 'transition 3' 'corner 2' 'connection 1' 'corner 1' 'skew 0']\n",
      " ['component 0' 'component 0' 'component 0' 'component 0' 'component 0'\n",
      "  'component 0' 'component 0' 'component 0' 'connection 0' 'track 0'\n",
      "  'bridge 0' 'bridge 0' 'connection 2' 'component 0' 'connection 0'\n",
      "  'dskew 0']\n",
      " ['component 0' 'component 0' 'component 0' 'component 0' 'component 0'\n",
      "  'component 0' 'component 0' 'component 0' 'connection 0' 'track 0'\n",
      "  'bridge 0' 'bridge 0' 'connection 2' 'component 0' 'connection 0'\n",
      "  'skew 2']\n",
      " ['component 0' 'component 0' 'component 0' 'component 0' 'component 0'\n",
      "  'component 0' 'component 0' 'component 0' 'connection 0' 'turn 3'\n",
      "  'wire 0' 'wire 0' 'corner 3' 'connection 3' 'corner 0' 'turn 0']\n",
      " ['component 0' 'component 0' 'component 0' 'component 0' 'component 0'\n",
      "  'component 0' 'component 0' 'component 0' 'connection 0' 'skew 2'\n",
      "  'wire 0' 'transition 1' 'vias 3' 'turn 1' 'track 0' 'dskew 1']\n",
      " ['component 0' 'component 0' 'component 0' 'component 0' 'component 0'\n",
      "  'component 0' 'component 0' 'component 0' 'connection 0' 'track 0'\n",
      "  'bridge 0' 'turn 2' 'track 1' 'substrate 0' 'substrate 0' 'skew 1']\n",
      " ['connection 3' 'connection 3' 'connection 3' 'connection 3'\n",
      "  'connection 3' 'connection 3' 'connection 3' 'connection 3' 'corner 0'\n",
      "  'skew 0' 'bridge 0' 'skew 3' 'skew 1' 'skew 3' 'substrate 0'\n",
      "  'substrate 0']\n",
      " ['skew 1' 'dskew 1' 't 3' 'dskew 0' 'skew 2' 'track 1' 'turn 1'\n",
      "  'dskew 0' 'turn 3' 'track 1' 'transition 1' 'track 1' 'substrate 0'\n",
      "  'skew 1' 't 1' 'track 0']\n",
      " ['transition 0' 'bridge 1' 'transition 2' 'dskew 0' 'track 0' 'dskew 0'\n",
      "  'track 0' 'skew 2' 'track 1' 'track 1' 'track 1' 'track 1' 'turn 0'\n",
      "  'track 0' 'skew 2' 'corner 2']\n",
      " ['corner 1' 'track 1' 'corner 2' 'connection 1' 'corner 1' 'track 1'\n",
      "  'vias 3' 'corner 2' 'connection 1' 'connection 1' 'connection 1'\n",
      "  'connection 1' 'connection 1' 'corner 1' 'skew 0' 'connection 2']\n",
      " ['connection 0' 'dskew 1' 'connection 2' 'component 0' 'connection 0'\n",
      "  'dskew 1' 'dskew 1' 'connection 2' 'component 0' 'component 0'\n",
      "  'component 0' 'component 0' 'component 0' 'connection 0' 'skew 2'\n",
      "  'corner 3']\n",
      " ['connection 0' 'turn 2' 'corner 3' 'connection 3' 'corner 0' 'track 1'\n",
      "  'skew 1' 'connection 2' 'component 0' 'component 0' 'component 0'\n",
      "  'component 0' 'component 0' 'connection 0' 'turn 3' 'turn 0']\n",
      " ['corner 0' 'turn 0' 'track 0' 'dskew 1' 'vias 2' 'track 1'\n",
      "  'substrate 0' 'corner 3' 'connection 3' 'connection 3' 'connection 3'\n",
      "  'connection 3' 'connection 3' 'corner 0' 'turn 1' 't 3']\n",
      " ['transition 0' 'bridge 1' 'wire 1' 'bridge 1' 'transition 2' 'skew 2'\n",
      "  'substrate 0' 'substrate 0' 'skew 1' 'dskew 1' 'dskew 1' 'dskew 1'\n",
      "  'dskew 1' 'track 0' 'track 0' 'skew 3']]\n"
     ]
    }
   ],
   "source": [
    "states, histories = solve_wfc(\"./tilesets/Circuit.xml\", \"./tilesets/Circuit\", 16, 16)\n",
    "print(states[-1].to_str(patterns))"
   ]
  },
  {
   "cell_type": "code",
   "execution_count": 26,
   "metadata": {},
   "outputs": [],
   "source": [
    "def animate_history(\n",
    "    tileset: Tileset,\n",
    "    patterns: pd.DataFrame,\n",
    "    states: list[State],\n",
    "    save_path: Optional[str] = None,\n",
    "):\n",
    "    \"\"\"Create a matplotlib animation of the wave function collapse.\"\"\"\n",
    "    fig, ax = plt.subplots(figsize=(8, 8))\n",
    "    ax.set_axis_off()\n",
    "    ax.set_title(\"Wave function collapse\")\n",
    "\n",
    "    def animate(i):\n",
    "        ax.clear()\n",
    "        states[i].draw(tileset, patterns, ax)\n",
    "        ax.set_title(f\"Step {i}\")\n",
    "\n",
    "    anim = FuncAnimation(fig, animate, frames=len(states), interval=100)\n",
    "\n",
    "    if save_path is not None:\n",
    "        print(\"Saving animation...\")\n",
    "        t = tqdm(total=len(states))\n",
    "        anim.save(save_path, writer=\"imagemagick\", fps=10, progress_callback=lambda i, n: t.update())\n",
    "        t.close()"
   ]
  },
  {
   "cell_type": "code",
   "execution_count": 27,
   "metadata": {},
   "outputs": [
    {
     "name": "stdout",
     "output_type": "stream",
     "text": [
      "Saving animation...\n"
     ]
    },
    {
     "name": "stderr",
     "output_type": "stream",
     "text": [
      "100%|██████████| 147/147 [04:13<00:00,  1.73s/it]\n"
     ]
    },
    {
     "data": {
      "image/png": "[encoded data removed]",
      "text/plain": [
       "<Figure size 800x800 with 1 Axes>"
      ]
     },
     "metadata": {},
     "output_type": "display_data"
    }
   ],
   "source": [
    "animate_history(circuit_tileset, patterns, states, \"circuits.gif\")"
   ]
  }
 ],
 "metadata": {
  "kernelspec": {
   "display_name": "base",
   "language": "python",
   "name": "python3"
  },
  "language_info": {
   "codemirror_mode": {
    "name": "ipython",
    "version": 3
   },
   "file_extension": ".py",
   "mimetype": "text/x-python",
   "name": "python",
   "nbconvert_exporter": "python",
   "pygments_lexer": "ipython3",
   "version": "3.9.12"
  },
  "orig_nbformat": 4,
  "vscode": {
   "interpreter": {
    "hash": "c30f2af5f468e7f5b45bcc30fca5f4886c90d54777aed916ed5f6294dfb24bf2"
   }
  }
 },
 "nbformat": 4,
 "nbformat_minor": 2
}
